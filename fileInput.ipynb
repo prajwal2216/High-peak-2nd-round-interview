{
 "cells": [
  {
   "cell_type": "code",
   "execution_count": 6,
   "metadata": {},
   "outputs": [],
   "source": [
    "f = open('sample_input.txt','r')"
   ]
  },
  {
   "cell_type": "code",
   "execution_count": 7,
   "metadata": {},
   "outputs": [],
   "source": [
    "contents=f.readlines()"
   ]
  },
  {
   "cell_type": "code",
   "execution_count": 11,
   "metadata": {
    "scrolled": true
   },
   "outputs": [
    {
     "name": "stdout",
     "output_type": "stream",
     "text": [
      "Goodies and Prices:\n",
      "\n",
      "IPods: 22349\n",
      " IPods: 22349\n",
      " \n",
      " Scale: 4999 "
     ]
    }
   ],
   "source": [
    "import random\n",
    "\n",
    "count = 0\n",
    "newcount=0\n",
    "new_file = open('sample-output.txt','w')\n",
    "n = 4\n",
    "for line in contents:\n",
    "    count += 1\n",
    "    if count == 1 :\n",
    "        print(line)\n",
    "        new_file.write(line)\n",
    "        \n",
    "    if count > 3 :\n",
    "        newcount += 1\n",
    "        print(random.choice(contents), end = \" \")\n",
    "        new_file.write(line)\n",
    "        if newcount >= 4 :\n",
    "            break\n",
    "            #print(line)\n",
    "            "
   ]
  },
  {
   "cell_type": "code",
   "execution_count": 10,
   "metadata": {},
   "outputs": [],
   "source": [
    "new_file.close()"
   ]
  },
  {
   "cell_type": "code",
   "execution_count": null,
   "metadata": {},
   "outputs": [],
   "source": []
  }
 ],
 "metadata": {
  "kernelspec": {
   "display_name": "Python 3",
   "language": "python",
   "name": "python3"
  },
  "language_info": {
   "codemirror_mode": {
    "name": "ipython",
    "version": 3
   },
   "file_extension": ".py",
   "mimetype": "text/x-python",
   "name": "python",
   "nbconvert_exporter": "python",
   "pygments_lexer": "ipython3",
   "version": "3.8.3"
  }
 },
 "nbformat": 4,
 "nbformat_minor": 2
}
